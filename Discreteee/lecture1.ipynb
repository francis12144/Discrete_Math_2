{
 "cells": [
  {
   "cell_type": "markdown",
   "metadata": {},
   "source": [
    "# 1.\n",
    "\n",
    "Recall the definition of a rational number, denoted as $\\mathbb{Q}$. Prove that the Euler's number $e=\\sum ^{\\infty} _{k=0}\\frac{1}{k!}\\notin \\mathbb{Q}$. A factorial is defined as $k!=(k)(k-1)(k-2)(k-3)...,\\forall k\\in \\mathbb{Z}^+$, note that $0!=1$. Furthermore, a sum notation $\\sum ^\\infty _{k=0} k=0+1+2+3+...+...$\n"
   ]
  }
 ],
 "metadata": {
  "language_info": {
   "name": "python"
  }
 },
 "nbformat": 4,
 "nbformat_minor": 2
}
